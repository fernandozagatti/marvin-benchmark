{
 "cells": [
  {
   "cell_type": "markdown",
   "metadata": {},
   "source": [
    "# Documentation"
   ]
  },
  {
   "cell_type": "markdown",
   "metadata": {},
   "source": [
    "# Sample"
   ]
  },
  {
   "cell_type": "code",
   "execution_count": 1,
   "metadata": {
    "marvin_cell": "acquisitor"
   },
   "outputs": [],
   "source": [
    "import marvin_santander_customer_engine\n",
    "import pandas as pd\n",
    "import os\n",
    "\n",
    "path = os.path.join(os.environ[\"MARVIN_DATA_PATH\"], \"santander_customer_train.csv\")\n",
    "train = pd.read_csv(path)\n",
    "\n",
    "marvin_initial_dataset = train"
   ]
  },
  {
   "cell_type": "code",
   "execution_count": 2,
   "metadata": {},
   "outputs": [
    {
     "data": {
      "text/html": [
       "<div>\n",
       "<style scoped>\n",
       "    .dataframe tbody tr th:only-of-type {\n",
       "        vertical-align: middle;\n",
       "    }\n",
       "\n",
       "    .dataframe tbody tr th {\n",
       "        vertical-align: top;\n",
       "    }\n",
       "\n",
       "    .dataframe thead th {\n",
       "        text-align: right;\n",
       "    }\n",
       "</style>\n",
       "<table border=\"1\" class=\"dataframe\">\n",
       "  <thead>\n",
       "    <tr style=\"text-align: right;\">\n",
       "      <th></th>\n",
       "      <th>ID_code</th>\n",
       "      <th>target</th>\n",
       "      <th>var_0</th>\n",
       "      <th>var_1</th>\n",
       "      <th>var_2</th>\n",
       "      <th>var_3</th>\n",
       "      <th>var_4</th>\n",
       "      <th>var_5</th>\n",
       "      <th>var_6</th>\n",
       "      <th>var_7</th>\n",
       "      <th>...</th>\n",
       "      <th>var_190</th>\n",
       "      <th>var_191</th>\n",
       "      <th>var_192</th>\n",
       "      <th>var_193</th>\n",
       "      <th>var_194</th>\n",
       "      <th>var_195</th>\n",
       "      <th>var_196</th>\n",
       "      <th>var_197</th>\n",
       "      <th>var_198</th>\n",
       "      <th>var_199</th>\n",
       "    </tr>\n",
       "  </thead>\n",
       "  <tbody>\n",
       "    <tr>\n",
       "      <th>0</th>\n",
       "      <td>train_0</td>\n",
       "      <td>0</td>\n",
       "      <td>8.9255</td>\n",
       "      <td>-6.7863</td>\n",
       "      <td>11.9081</td>\n",
       "      <td>5.0930</td>\n",
       "      <td>11.4607</td>\n",
       "      <td>-9.2834</td>\n",
       "      <td>5.1187</td>\n",
       "      <td>18.6266</td>\n",
       "      <td>...</td>\n",
       "      <td>4.4354</td>\n",
       "      <td>3.9642</td>\n",
       "      <td>3.1364</td>\n",
       "      <td>1.6910</td>\n",
       "      <td>18.5227</td>\n",
       "      <td>-2.3978</td>\n",
       "      <td>7.8784</td>\n",
       "      <td>8.5635</td>\n",
       "      <td>12.7803</td>\n",
       "      <td>-1.0914</td>\n",
       "    </tr>\n",
       "    <tr>\n",
       "      <th>1</th>\n",
       "      <td>train_1</td>\n",
       "      <td>0</td>\n",
       "      <td>11.5006</td>\n",
       "      <td>-4.1473</td>\n",
       "      <td>13.8588</td>\n",
       "      <td>5.3890</td>\n",
       "      <td>12.3622</td>\n",
       "      <td>7.0433</td>\n",
       "      <td>5.6208</td>\n",
       "      <td>16.5338</td>\n",
       "      <td>...</td>\n",
       "      <td>7.6421</td>\n",
       "      <td>7.7214</td>\n",
       "      <td>2.5837</td>\n",
       "      <td>10.9516</td>\n",
       "      <td>15.4305</td>\n",
       "      <td>2.0339</td>\n",
       "      <td>8.1267</td>\n",
       "      <td>8.7889</td>\n",
       "      <td>18.3560</td>\n",
       "      <td>1.9518</td>\n",
       "    </tr>\n",
       "    <tr>\n",
       "      <th>2</th>\n",
       "      <td>train_2</td>\n",
       "      <td>0</td>\n",
       "      <td>8.6093</td>\n",
       "      <td>-2.7457</td>\n",
       "      <td>12.0805</td>\n",
       "      <td>7.8928</td>\n",
       "      <td>10.5825</td>\n",
       "      <td>-9.0837</td>\n",
       "      <td>6.9427</td>\n",
       "      <td>14.6155</td>\n",
       "      <td>...</td>\n",
       "      <td>2.9057</td>\n",
       "      <td>9.7905</td>\n",
       "      <td>1.6704</td>\n",
       "      <td>1.6858</td>\n",
       "      <td>21.6042</td>\n",
       "      <td>3.1417</td>\n",
       "      <td>-6.5213</td>\n",
       "      <td>8.2675</td>\n",
       "      <td>14.7222</td>\n",
       "      <td>0.3965</td>\n",
       "    </tr>\n",
       "    <tr>\n",
       "      <th>3</th>\n",
       "      <td>train_3</td>\n",
       "      <td>0</td>\n",
       "      <td>11.0604</td>\n",
       "      <td>-2.1518</td>\n",
       "      <td>8.9522</td>\n",
       "      <td>7.1957</td>\n",
       "      <td>12.5846</td>\n",
       "      <td>-1.8361</td>\n",
       "      <td>5.8428</td>\n",
       "      <td>14.9250</td>\n",
       "      <td>...</td>\n",
       "      <td>4.4666</td>\n",
       "      <td>4.7433</td>\n",
       "      <td>0.7178</td>\n",
       "      <td>1.4214</td>\n",
       "      <td>23.0347</td>\n",
       "      <td>-1.2706</td>\n",
       "      <td>-2.9275</td>\n",
       "      <td>10.2922</td>\n",
       "      <td>17.9697</td>\n",
       "      <td>-8.9996</td>\n",
       "    </tr>\n",
       "    <tr>\n",
       "      <th>4</th>\n",
       "      <td>train_4</td>\n",
       "      <td>0</td>\n",
       "      <td>9.8369</td>\n",
       "      <td>-1.4834</td>\n",
       "      <td>12.8746</td>\n",
       "      <td>6.6375</td>\n",
       "      <td>12.2772</td>\n",
       "      <td>2.4486</td>\n",
       "      <td>5.9405</td>\n",
       "      <td>19.2514</td>\n",
       "      <td>...</td>\n",
       "      <td>-1.4905</td>\n",
       "      <td>9.5214</td>\n",
       "      <td>-0.1508</td>\n",
       "      <td>9.1942</td>\n",
       "      <td>13.2876</td>\n",
       "      <td>-1.5121</td>\n",
       "      <td>3.9267</td>\n",
       "      <td>9.5031</td>\n",
       "      <td>17.9974</td>\n",
       "      <td>-8.8104</td>\n",
       "    </tr>\n",
       "  </tbody>\n",
       "</table>\n",
       "<p>5 rows × 202 columns</p>\n",
       "</div>"
      ],
      "text/plain": [
       "   ID_code  target    var_0   var_1    var_2   var_3    var_4   var_5   var_6  \\\n",
       "0  train_0       0   8.9255 -6.7863  11.9081  5.0930  11.4607 -9.2834  5.1187   \n",
       "1  train_1       0  11.5006 -4.1473  13.8588  5.3890  12.3622  7.0433  5.6208   \n",
       "2  train_2       0   8.6093 -2.7457  12.0805  7.8928  10.5825 -9.0837  6.9427   \n",
       "3  train_3       0  11.0604 -2.1518   8.9522  7.1957  12.5846 -1.8361  5.8428   \n",
       "4  train_4       0   9.8369 -1.4834  12.8746  6.6375  12.2772  2.4486  5.9405   \n",
       "\n",
       "     var_7  ...  var_190  var_191  var_192  var_193  var_194  var_195  \\\n",
       "0  18.6266  ...   4.4354   3.9642   3.1364   1.6910  18.5227  -2.3978   \n",
       "1  16.5338  ...   7.6421   7.7214   2.5837  10.9516  15.4305   2.0339   \n",
       "2  14.6155  ...   2.9057   9.7905   1.6704   1.6858  21.6042   3.1417   \n",
       "3  14.9250  ...   4.4666   4.7433   0.7178   1.4214  23.0347  -1.2706   \n",
       "4  19.2514  ...  -1.4905   9.5214  -0.1508   9.1942  13.2876  -1.5121   \n",
       "\n",
       "   var_196  var_197  var_198  var_199  \n",
       "0   7.8784   8.5635  12.7803  -1.0914  \n",
       "1   8.1267   8.7889  18.3560   1.9518  \n",
       "2  -6.5213   8.2675  14.7222   0.3965  \n",
       "3  -2.9275  10.2922  17.9697  -8.9996  \n",
       "4   3.9267   9.5031  17.9974  -8.8104  \n",
       "\n",
       "[5 rows x 202 columns]"
      ]
     },
     "execution_count": 2,
     "metadata": {},
     "output_type": "execute_result"
    }
   ],
   "source": [
    "train.head()"
   ]
  },
  {
   "cell_type": "code",
   "execution_count": 5,
   "metadata": {
    "marvin_cell": "tpreparator"
   },
   "outputs": [],
   "source": [
    "from sklearn.model_selection import train_test_split\n",
    "\n",
    "train, test = train_test_split(marvin_initial_dataset, test_size = 0.3)\n",
    "\n",
    "del train[\"ID_code\"]\n",
    "del test[\"ID_code\"]\n",
    "\n",
    "train_y = train.target\n",
    "train_x = train.drop(\"target\", axis=1)\n",
    "\n",
    "test_y = test.target\n",
    "test_x = test.drop(\"target\", axis=1)\n",
    "\n",
    "marvin_dataset = {'train_x': train_x, 'train_y': train_y, 'test_x': test_x, 'test_y': test_y}"
   ]
  },
  {
   "cell_type": "code",
   "execution_count": 6,
   "metadata": {
    "marvin_cell": "trainer"
   },
   "outputs": [
    {
     "name": "stderr",
     "output_type": "stream",
     "text": [
      "/home/fernandozagatti/.virtualenvs/santander-customer-engine-env/lib/python3.7/site-packages/sklearn/svm/base.py:193: FutureWarning: The default value of gamma will change from 'auto' to 'scale' in version 0.22 to account better for unscaled features. Set gamma explicitly to 'auto' or 'scale' to avoid this warning.\n",
      "  \"avoid this warning.\", FutureWarning)\n",
      "/home/fernandozagatti/.virtualenvs/santander-customer-engine-env/lib/python3.7/site-packages/sklearn/svm/base.py:241: ConvergenceWarning: Solver terminated early (max_iter=1000).  Consider pre-processing your data with StandardScaler or MinMaxScaler.\n",
      "  % self.max_iter, ConvergenceWarning)\n"
     ]
    }
   ],
   "source": [
    "from sklearn import svm\n",
    "\n",
    "clf = svm.SVC(max_iter=1000)\n",
    "model = clf.fit(marvin_dataset['train_x'], marvin_dataset['train_y'])\n",
    "\n",
    "marvin_model = model"
   ]
  },
  {
   "cell_type": "code",
   "execution_count": 7,
   "metadata": {
    "marvin_cell": "evaluator"
   },
   "outputs": [],
   "source": [
    "from sklearn.metrics import accuracy_score\n",
    "\n",
    "predicted = marvin_model.predict(marvin_dataset['test_x'])\n",
    "metric = accuracy_score(marvin_dataset['test_y'], predicted)\n",
    "\n",
    "marvin_metrics = metric"
   ]
  },
  {
   "cell_type": "code",
   "execution_count": 10,
   "metadata": {},
   "outputs": [
    {
     "name": "stdout",
     "output_type": "stream",
     "text": [
      "[ 9.68290e+00 -5.21670e+00  1.61825e+01  8.81550e+00  9.47000e+00\n",
      " -7.78110e+00  4.70700e+00  1.31935e+01 -5.25500e-01  6.82690e+00\n",
      " -1.81620e+00  1.29650e+00  1.39314e+01  9.29000e+00  7.80130e+00\n",
      "  1.48937e+01  9.53730e+00  2.01460e+00  2.48387e+01  1.49054e+01\n",
      "  2.80981e+01  2.26133e+01  2.99920e+00  3.00480e+00  7.07050e+00\n",
      "  1.32064e+01 -1.45169e+01  1.16850e+00  4.96420e+00  4.42460e+00\n",
      " -4.29530e+00  1.21567e+01 -7.96600e-01  1.33877e+01  1.14812e+01\n",
      " -4.63550e+00  4.01540e+00  6.44840e+00  4.70990e+00 -5.30730e+00\n",
      " -4.39720e+00  1.55688e+01  1.24260e+01  1.13470e+01  6.73000e+00\n",
      " -2.31834e+01  7.61860e+00 -1.94421e+01  1.17701e+01  2.09734e+01\n",
      "  1.26731e+01  4.32560e+00 -8.65500e-01  5.81600e+00  1.24813e+01\n",
      "  3.99780e+00  1.46239e+01  6.11550e+00  5.02480e+00  9.40220e+00\n",
      "  8.08830e+00 -1.00360e+00  6.53600e-01 -4.38600e-01  7.35450e+00\n",
      "  5.49040e+00  6.04720e+00  8.97320e+00  5.01630e+00 -4.94740e+00\n",
      "  8.29900e+00  8.49300e-01  9.74550e+00  1.73512e+01  1.34045e+01\n",
      "  4.00330e+00 -8.29280e+00  1.68593e+01  3.71240e+00  1.22970e+01\n",
      "  1.28098e+01  1.56463e+01 -1.51711e+01 -9.06910e+00 -2.22000e-02\n",
      "  2.15102e+01  1.38152e+01  8.82790e+00  9.14190e+00 -2.22300e+00\n",
      " -9.37220e+00  6.81850e+00  1.04276e+01  9.12120e+00  1.16383e+01\n",
      "  3.04700e-01  1.55175e+01  7.94620e+00  9.61300e-01  8.51900e-01\n",
      " -2.76520e+00  4.61410e+00  2.80945e+01  1.90150e+00  1.34556e+01\n",
      "  5.94830e+00  9.39740e+00  1.66473e+01  1.45499e+01  1.51392e+01\n",
      "  1.32410e+01  5.80050e+00  1.60130e+00  3.17350e+00  5.32530e+00\n",
      " -7.26300e-01  2.34950e+00  3.04794e+01 -2.82310e+00  6.81250e+00\n",
      "  1.14698e+01  1.18964e+01 -8.01960e+00  3.41070e+00  4.31710e+00\n",
      "  1.22062e+01  1.39859e+01  3.10750e+00 -8.09020e+00  1.16157e+01\n",
      "  1.28859e+01  1.02000e-02  6.40930e+00  7.39220e+00  1.77700e-01\n",
      " -9.28430e+00  2.05281e+01  9.14390e+00 -5.66850e+00  5.02440e+00\n",
      "  3.34360e+00  1.76443e+01  2.20728e+01  1.42627e+01  9.90700e+00\n",
      "  2.03590e+00  8.24430e+00  8.90500e+00  3.86720e+00  1.35623e+01\n",
      "  1.53150e+01  1.68677e+01  7.63100e+00  2.04449e+01  1.28686e+01\n",
      "  9.63970e+00  1.37499e+01 -2.01000e-01  1.26551e+01  1.61371e+01\n",
      "  5.12930e+00  5.44740e+00  4.35660e+00  1.18227e+01 -1.16932e+01\n",
      "  3.04432e+01  2.89860e+00 -9.35330e+00  5.10850e+00  5.72180e+00\n",
      " -6.06090e+00 -9.77530e+00  2.85957e+01 -5.06560e+00  1.30719e+01\n",
      "  7.32180e+00 -1.35795e+01  1.04388e+01 -3.08890e+00  5.18760e+00\n",
      "  6.07000e-02  1.09008e+01  1.23900e+00  3.44780e+00  3.05052e+01\n",
      " -4.50080e+00  5.95530e+00  9.09220e+00  1.40830e+01 -2.45000e-01\n",
      "  7.28750e+00  9.16280e+00  5.64100e-01  2.04130e+00  2.26713e+01\n",
      " -2.53330e+00  7.47700e-01  8.07110e+00  1.11462e+01 -3.50720e+00]\n"
     ]
    }
   ],
   "source": [
    "input_message = train_x.iloc[0]\n",
    "input_message = input_message.values\n",
    "print(input_message)"
   ]
  },
  {
   "cell_type": "code",
   "execution_count": 11,
   "metadata": {
    "marvin_cell": "ppreparator"
   },
   "outputs": [],
   "source": [
    "input_message = input_message"
   ]
  },
  {
   "cell_type": "code",
   "execution_count": 15,
   "metadata": {
    "marvin_cell": "predictor"
   },
   "outputs": [],
   "source": [
    "import numpy as np\n",
    "\n",
    "pred = marvin_model.predict([input_message])[0]\n",
    "final_prediction = pred.astype(str) "
   ]
  },
  {
   "cell_type": "code",
   "execution_count": 16,
   "metadata": {},
   "outputs": [
    {
     "name": "stdout",
     "output_type": "stream",
     "text": [
      "<class 'numpy.str_'>\n"
     ]
    }
   ],
   "source": [
    "print(type(final_prediction))"
   ]
  },
  {
   "cell_type": "code",
   "execution_count": 17,
   "metadata": {},
   "outputs": [
    {
     "name": "stdout",
     "output_type": "stream",
     "text": [
      "0\n"
     ]
    }
   ],
   "source": [
    "print(final_prediction)"
   ]
  }
 ],
 "metadata": {
  "kernelspec": {
   "display_name": "Python 3",
   "language": "python",
   "name": "python3"
  },
  "language_info": {
   "codemirror_mode": {
    "name": "ipython",
    "version": 3
   },
   "file_extension": ".py",
   "mimetype": "text/x-python",
   "name": "python",
   "nbconvert_exporter": "python",
   "pygments_lexer": "ipython3",
   "version": "3.7.3"
  }
 },
 "nbformat": 4,
 "nbformat_minor": 1
}
